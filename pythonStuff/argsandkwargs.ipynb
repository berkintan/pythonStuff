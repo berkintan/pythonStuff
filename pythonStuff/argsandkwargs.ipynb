{
 "cells": [
  {
   "cell_type": "code",
   "execution_count": 1,
   "id": "9432537c",
   "metadata": {},
   "outputs": [],
   "source": [
    "def myfunc(a,b,c=0,d=0,e=0):\n",
    "    # returns 5% of the sum of a and b \n",
    "    return sum((a,b,c,d,e)) * 0.05"
   ]
  },
  {
   "cell_type": "code",
   "execution_count": 2,
   "id": "4747197c",
   "metadata": {},
   "outputs": [
    {
     "data": {
      "text/plain": [
       "5.0"
      ]
     },
     "execution_count": 2,
     "metadata": {},
     "output_type": "execute_result"
    }
   ],
   "source": [
    "myfunc(40,60)"
   ]
  },
  {
   "cell_type": "code",
   "execution_count": 5,
   "id": "06f13329",
   "metadata": {},
   "outputs": [],
   "source": [
    "# you can say any other words other than args...\n",
    "# but go with args for others to understand your code. \n",
    "def myfunc(*args):\n",
    "    print(args)\n",
    "    return sum(args) * 0.05"
   ]
  },
  {
   "cell_type": "code",
   "execution_count": 6,
   "id": "70637cb7",
   "metadata": {},
   "outputs": [
    {
     "name": "stdout",
     "output_type": "stream",
     "text": [
      "(5, 10, 20, 30, 300)\n"
     ]
    },
    {
     "data": {
      "text/plain": [
       "18.25"
      ]
     },
     "execution_count": 6,
     "metadata": {},
     "output_type": "execute_result"
    }
   ],
   "source": [
    "myfunc(5,10,20,30,300)"
   ]
  },
  {
   "cell_type": "code",
   "execution_count": 15,
   "id": "2c2eca70",
   "metadata": {},
   "outputs": [],
   "source": [
    "def myfunc(**kwargs):\n",
    "    print(kwargs)\n",
    "    if \"fruit\" in kwargs:\n",
    "        print(\"My fruit of choice is {}\".format(kwargs[\"fruit\"]))\n",
    "    else:\n",
    "        print(\"I did not find any fruit here\")"
   ]
  },
  {
   "cell_type": "code",
   "execution_count": 16,
   "id": "a3afd363",
   "metadata": {},
   "outputs": [
    {
     "name": "stdout",
     "output_type": "stream",
     "text": [
      "{'fruit': 'Apple', 'veggie': 'lettuce'}\n",
      "My fruit of choice is Apple\n"
     ]
    }
   ],
   "source": [
    "myfunc(fruit = \"Apple\", veggie = \"lettuce\")"
   ]
  },
  {
   "cell_type": "code",
   "execution_count": 29,
   "id": "8af172db",
   "metadata": {},
   "outputs": [],
   "source": [
    "def myfunc(*args, **kwargs):\n",
    "    print(args)\n",
    "    print(kwargs)\n",
    "    print(\"I would like {} {}\".format(args[1],kwargs[\"food\"]))"
   ]
  },
  {
   "cell_type": "code",
   "execution_count": 30,
   "id": "84afbd8e",
   "metadata": {},
   "outputs": [
    {
     "name": "stdout",
     "output_type": "stream",
     "text": [
      "(10, 20, 30)\n",
      "{'fruit': 'orange', 'food': 'eggs', 'animal': 'dog'}\n",
      "I would like 20 eggs\n"
     ]
    }
   ],
   "source": [
    "myfunc(10,20,30,fruit = \"orange\", food = \"eggs\", animal = \"dog\")"
   ]
  },
  {
   "cell_type": "markdown",
   "id": "0f6c1678",
   "metadata": {},
   "source": [
    "# Problems"
   ]
  },
  {
   "cell_type": "code",
   "execution_count": 31,
   "id": "c1983c69",
   "metadata": {},
   "outputs": [],
   "source": [
    "def myfunc(*args):\n",
    "    mylist = []\n",
    "    for number in args:\n",
    "        if number % 2 == 0:\n",
    "            mylist.append(number)\n",
    "    \n",
    "    return mylist"
   ]
  },
  {
   "cell_type": "code",
   "execution_count": 32,
   "id": "7dc29001",
   "metadata": {},
   "outputs": [
    {
     "data": {
      "text/plain": [
       "[2, 4]"
      ]
     },
     "execution_count": 32,
     "metadata": {},
     "output_type": "execute_result"
    }
   ],
   "source": [
    "myfunc(1,2,3,4,5)"
   ]
  },
  {
   "cell_type": "code",
   "execution_count": 48,
   "id": "9ec9fb2f",
   "metadata": {},
   "outputs": [],
   "source": [
    "def myfunc(word):\n",
    "    newWord = \"\"\n",
    "    for letter in word:\n",
    "        if letter.isupper():\n",
    "            letter = letter.lower()\n",
    "            newWord += letter\n",
    "        elif letter.islower():\n",
    "            letter = letter.upper()\n",
    "            newWord += letter\n",
    "            \n",
    "    return newWord"
   ]
  },
  {
   "cell_type": "code",
   "execution_count": 49,
   "id": "f05a94ee",
   "metadata": {},
   "outputs": [
    {
     "data": {
      "text/plain": [
       "'fALSE'"
      ]
     },
     "execution_count": 49,
     "metadata": {},
     "output_type": "execute_result"
    }
   ],
   "source": [
    "myfunc(\"False\")"
   ]
  },
  {
   "cell_type": "code",
   "execution_count": 55,
   "id": "4101162b",
   "metadata": {},
   "outputs": [],
   "source": [
    "def myfunc(word):\n",
    "    newWord = []\n",
    "    for i in range(len(word)):\n",
    "        if i %2 == 0:\n",
    "            newWord.append(word[i].lower())\n",
    "        else:\n",
    "            newWord.append(word[i].upper())\n",
    "            \n",
    "    return ''.join(newWord)\n",
    "   \n",
    "            "
   ]
  },
  {
   "cell_type": "code",
   "execution_count": 56,
   "id": "8e008581",
   "metadata": {},
   "outputs": [
    {
     "data": {
      "text/plain": [
       "'hElLo'"
      ]
     },
     "execution_count": 56,
     "metadata": {},
     "output_type": "execute_result"
    }
   ],
   "source": [
    "myfunc(\"Hello\")"
   ]
  },
  {
   "cell_type": "code",
   "execution_count": null,
   "id": "4fa26dc2",
   "metadata": {},
   "outputs": [],
   "source": []
  }
 ],
 "metadata": {
  "kernelspec": {
   "display_name": "Python 3 (ipykernel)",
   "language": "python",
   "name": "python3"
  },
  "language_info": {
   "codemirror_mode": {
    "name": "ipython",
    "version": 3
   },
   "file_extension": ".py",
   "mimetype": "text/x-python",
   "name": "python",
   "nbconvert_exporter": "python",
   "pygments_lexer": "ipython3",
   "version": "3.9.7"
  }
 },
 "nbformat": 4,
 "nbformat_minor": 5
}
