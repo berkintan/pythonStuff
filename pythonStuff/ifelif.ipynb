{
 "cells": [
  {
   "cell_type": "code",
   "execution_count": 10,
   "id": "363a8b25",
   "metadata": {},
   "outputs": [
    {
     "name": "stdout",
     "output_type": "stream",
     "text": [
      "I am not hungry\n"
     ]
    }
   ],
   "source": [
    "hungry = False\n",
    "\n",
    "if hungry:\n",
    "    print(\"FEED ME!\")\n",
    "else:\n",
    "    print(\"I am not hungry\")\n",
    "    "
   ]
  },
  {
   "cell_type": "code",
   "execution_count": 15,
   "id": "da6d707c",
   "metadata": {},
   "outputs": [
    {
     "name": "stdout",
     "output_type": "stream",
     "text": [
      "Welcome to the store!\n"
     ]
    }
   ],
   "source": [
    "loc = \"Store\"\n",
    "\n",
    "if loc == \"Auto Shop\":\n",
    "    print(\"Cars are cool!\")\n",
    "elif loc == \"Bank\":\n",
    "    print(\"Money is cool\")\n",
    "elif loc == \"Store\":\n",
    "    print(\"Welcome to the store!\")\n",
    "else:\n",
    "    print(\"I do not know much.\")"
   ]
  },
  {
   "cell_type": "code",
   "execution_count": 18,
   "id": "d70a9a07",
   "metadata": {},
   "outputs": [
    {
     "name": "stdout",
     "output_type": "stream",
     "text": [
      "What is your name?\n"
     ]
    }
   ],
   "source": [
    "name = \"Jose\"\n",
    "\n",
    "if name == \"Frankie\":\n",
    "    print(\"Hello Frankie\")\n",
    "elif name == \"Berkin\":\n",
    "    print(\"Hello Berkin\")\n",
    "else:\n",
    "    print(\"What is your name?\")"
   ]
  },
  {
   "cell_type": "code",
   "execution_count": null,
   "id": "95a5efb7",
   "metadata": {},
   "outputs": [],
   "source": []
  }
 ],
 "metadata": {
  "kernelspec": {
   "display_name": "Python 3 (ipykernel)",
   "language": "python",
   "name": "python3"
  },
  "language_info": {
   "codemirror_mode": {
    "name": "ipython",
    "version": 3
   },
   "file_extension": ".py",
   "mimetype": "text/x-python",
   "name": "python",
   "nbconvert_exporter": "python",
   "pygments_lexer": "ipython3",
   "version": "3.9.7"
  }
 },
 "nbformat": 4,
 "nbformat_minor": 5
}
